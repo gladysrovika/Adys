{
 "cells": [
  {
   "cell_type": "markdown",
   "metadata": {},
   "source": [
    "## Menghitung Volume Reservoir"
   ]
  },
  {
   "cell_type": "code",
   "execution_count": 1,
   "metadata": {},
   "outputs": [
    {
     "name": "stdout",
     "output_type": "stream",
     "text": [
      "Volume reservoir adalah: 351.68\n"
     ]
    }
   ],
   "source": [
    "# Deklarasi\n",
    "phi = 3.14\n",
    "r = 4\n",
    "h = 7\n",
    "\n",
    "# Rumus Volume reservoir\n",
    "v = phi * r * r * h\n",
    "print(\"Volume reservoir adalah:\", v)"
   ]
  },
  {
   "cell_type": "markdown",
   "metadata": {},
   "source": [
    "## Menghitung Porositas"
   ]
  },
  {
   "cell_type": "code",
   "execution_count": 3,
   "metadata": {},
   "outputs": [
    {
     "name": "stdout",
     "output_type": "stream",
     "text": [
      "Porositas batuan adalah: 50.0\n"
     ]
    }
   ],
   "source": [
    "# Deklarasi\n",
    "vp = 22\n",
    "vb = 44\n",
    "\n",
    "# Rumus Porositas batuan\n",
    "Ø = vp/vb * 100\n",
    "print(\"Porositas batuan adalah:\",Ø)"
   ]
  },
  {
   "cell_type": "markdown",
   "metadata": {},
   "source": [
    "## Menghitung Laju Alir Minyak"
   ]
  },
  {
   "cell_type": "code",
   "execution_count": 6,
   "metadata": {},
   "outputs": [
    {
     "name": "stdout",
     "output_type": "stream",
     "text": [
      "Flow rate minyak adalah: 48.0\n"
     ]
    }
   ],
   "source": [
    "# Deklarasi\n",
    "v = 240\n",
    "t = 5\n",
    "\n",
    "# Rumus Porositas batuan\n",
    "Q = v/t\n",
    "print(\"Flow rate minyak adalah:\",Q)"
   ]
  },
  {
   "cell_type": "markdown",
   "metadata": {},
   "source": [
    "## Menghitung Recovery Factor dengan material Balance Equation"
   ]
  },
  {
   "cell_type": "code",
   "execution_count": 8,
   "metadata": {},
   "outputs": [
    {
     "name": "stdout",
     "output_type": "stream",
     "text": [
      "Recovery Factor adalah: 13.01\n"
     ]
    }
   ],
   "source": [
    "# Deklarasi\n",
    "Np = 130\n",
    "N = 10\n",
    "m = 0.1\n",
    "\n",
    "# Rumus Recovery Factor\n",
    "RF = Np/N+(m/N)\n",
    "print(\"Recovery Factor adalah:\", RF)"
   ]
  },
  {
   "cell_type": "markdown",
   "metadata": {},
   "source": [
    "## Menghitung Permeabilitas Efektif"
   ]
  },
  {
   "cell_type": "code",
   "execution_count": 10,
   "metadata": {},
   "outputs": [
    {
     "name": "stdout",
     "output_type": "stream",
     "text": [
      "Permeabilitas Efektif adalah: 0.0\n"
     ]
    }
   ],
   "source": [
    "# Deklarasi\n",
    "n = 4\n",
    "m = 4\n",
    "Krw = 0.9\n",
    "Sw = 0.5\n",
    "Sor = 0.5\n",
    "\n",
    "# Rumus Permeabilitas Efektif\n",
    "kr = Krw * (Sw**n) * (1-Sor-Sw)**m\n",
    "print(\"Permeabilitas Efektif adalah:\", kr)"
   ]
  }
 ],
 "metadata": {
  "kernelspec": {
   "display_name": "Python 3",
   "language": "python",
   "name": "python3"
  },
  "language_info": {
   "codemirror_mode": {
    "name": "ipython",
    "version": 3
   },
   "file_extension": ".py",
   "mimetype": "text/x-python",
   "name": "python",
   "nbconvert_exporter": "python",
   "pygments_lexer": "ipython3",
   "version": "3.12.2"
  }
 },
 "nbformat": 4,
 "nbformat_minor": 2
}
